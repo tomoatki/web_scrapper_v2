{
 "cells": [
  {
   "cell_type": "code",
   "execution_count": 21,
   "metadata": {},
   "outputs": [
    {
     "name": "stdout",
     "output_type": "stream",
     "text": [
      "2,779.03\n"
     ]
    }
   ],
   "source": [
    "import urllib\n",
    "import csv\n",
    "from datetime import datetime\n",
    "from bs4 import BeautifulSoup \n",
    "from urllib.request import urlopen\n",
    "quote_page= ['http://www.bloomberg.com/quote/SPX:IND', 'http://www.bloomberg.com/quote/CCMP:IND','https://www.bloomberg.com/quote/UKX:IND']\n",
    "data = []\n",
    "for pg in quote_page:\n",
    "    page = urlopen(pg)\n",
    "# parse the html using beautiful soup and store in variable 'soup'\n",
    "    soup = BeautifulSoup(page, 'html.parser')\n",
    "#remove the divider tage and get value of it's value\n",
    "    name_box = soup.find('h1', attrs={'class':'name'})\n",
    "\n",
    "    name = name_box.text.strip() #strip used to remove starting and trailing \n",
    "#print(name)\n",
    "    data.append((name,price))\n",
    "\n",
    "# get the index price\n",
    "\n",
    "print(price)\n",
    "\n",
    "with open('index.csv', 'a') as csv_file:\n",
    "    writer = csv.writer(csv_file)\n",
    "    for name, price in data:\n",
    "        writer.writerow([name,price, datetime.now()])"
   ]
  },
  {
   "cell_type": "code",
   "execution_count": null,
   "metadata": {
    "collapsed": true
   },
   "outputs": [],
   "source": []
  }
 ],
 "metadata": {
  "kernelspec": {
   "display_name": "Python 3",
   "language": "python",
   "name": "python3"
  },
  "language_info": {
   "codemirror_mode": {
    "name": "ipython",
    "version": 3
   },
   "file_extension": ".py",
   "mimetype": "text/x-python",
   "name": "python",
   "nbconvert_exporter": "python",
   "pygments_lexer": "ipython3",
   "version": "3.6.3"
  }
 },
 "nbformat": 4,
 "nbformat_minor": 2
}
